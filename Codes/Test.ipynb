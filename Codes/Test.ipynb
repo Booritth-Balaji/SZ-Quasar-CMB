{
 "cells": [
  {
   "cell_type": "markdown",
   "id": "ebf9742f",
   "metadata": {},
   "source": [
    "## Pre-MCMC calculations"
   ]
  },
  {
   "cell_type": "code",
   "execution_count": 1,
   "id": "2edb82a3",
   "metadata": {},
   "outputs": [],
   "source": [
    "import numpy as np\n",
    "import matplotlib.pyplot as plt\n",
    "import emcee\n",
    "import corner\n",
    "import astropy\n",
    "import scipy.integrate as integrate\n",
    "import pandas"
   ]
  },
  {
   "cell_type": "code",
   "execution_count": 2,
   "id": "d9265360",
   "metadata": {},
   "outputs": [],
   "source": [
    "# Importing constants \n",
    "\n",
    "Planck = astropy.cosmology.realizations.Planck18\n",
    "\n",
    "T_CMB = Planck.Tcmb0  # Temperature of the CMB\n",
    "H_0 = Planck.H0  # Current Hubble constant\n",
    "Omega_m = Planck.Om0  # Matter density parameter\n",
    "Omega_lambda = Planck.Ode0  # Dark energy density parameter\n",
    "c = astropy.constants.c.to('km/s')  # Speed of light in km/s\n",
    "sigma_T = astropy.constants.sigma_T.to('km2')  # Thomson scattering cross-section\n",
    "\n",
    "\n",
    "# User set parameters\n",
    "\n",
    "z = 8  # Redshift of the quasar bubbles \n",
    "f_H = 0.21  # fraction of neutral hydrogen at z = 8"
   ]
  },
  {
   "cell_type": "code",
   "execution_count": 3,
   "id": "217efba2",
   "metadata": {},
   "outputs": [],
   "source": [
    "# Input Data\n",
    "\n",
    "data = pandas.read_csv('Data/l_0.0pc_noise.csv')\n",
    "\n",
    "Ang_deg = np.array(data['radius_y'])  # In arcmins\n",
    "amp = np.array(data['amp_y'])  # Amplitude in micro K"
   ]
  },
  {
   "cell_type": "code",
   "execution_count": 4,
   "id": "51f90b16",
   "metadata": {},
   "outputs": [],
   "source": [
    "# Calculating the relevant distances\n",
    "\n",
    "D_H = c / H_0  # Hubble distance\n",
    "\n",
    "def integrand(z, Omega_m = Omega_m, Omega_lambda = Omega_lambda):\n",
    "    return 1 / np.sqrt(Omega_m * (1 + z)**3 + Omega_lambda)\n",
    "\n",
    "Integral = integrate.quad(integrand, 0, z)[0]  # Integrating from 0 to z\n",
    "D_C = D_H * Integral  # Comoving distance\n",
    "D_A = D_C / (1 + z)  # Angular diameter distance "
   ]
  },
  {
   "cell_type": "code",
   "execution_count": 5,
   "id": "da0c2841",
   "metadata": {},
   "outputs": [],
   "source": [
    "# Calculating the actual diameter of the bubbles and y\n",
    "\n",
    "Ang_rad = Ang_deg * np.pi / (180 * 60)  # Convert arcmins to radians\n",
    "Radius = D_A * Ang_rad  # Convert angular radius to actual radius\n",
    "Diameter = 2 * Radius  # Diameter of the bubbles\n",
    "\n",
    "y = amp / T_CMB.value  "
   ]
  },
  {
   "cell_type": "code",
   "execution_count": 6,
   "id": "947132e1",
   "metadata": {},
   "outputs": [],
   "source": [
    "# Calculating n_e and n_H\n",
    "\n",
    "n_e = y * 3 * np.sqrt(1+z) / (sigma_T * 0.001 * 2 * Diameter.to('km'))\n",
    "\n",
    "n_H = n_e / (1 - f_H)  # Assuming all electrons are from ionized hydrogen"
   ]
  },
  {
   "cell_type": "markdown",
   "id": "13cd7a70",
   "metadata": {},
   "source": [
    "----"
   ]
  },
  {
   "cell_type": "markdown",
   "id": "bb8c8ef3",
   "metadata": {},
   "source": [
    "## MCMC Sampling"
   ]
  },
  {
   "cell_type": "code",
   "execution_count": 7,
   "id": "4b6542c5",
   "metadata": {},
   "outputs": [],
   "source": [
    "# Defining the model using the Stromgren sphere approximation\n",
    "\n",
    "def model(theta, n_H): \n",
    "    N_dot, t_Q = theta\n",
    "    return (((3*N_dot*t_Q)/(4*np.pi*n_H))**(1/3)) * (1+z)**(-1)"
   ]
  },
  {
   "cell_type": "code",
   "execution_count": 8,
   "id": "c0711f89",
   "metadata": {},
   "outputs": [],
   "source": [
    "# Setting up initial, lower and upper bounds for the parameters\n",
    "\n",
    "N_dot_ini = 10**58  # in s^-1\n",
    "N_dot_min =  10**56  # in s^-1\n",
    "N_dot_max = 10**60  # in s^-1\n",
    "\n",
    "t_Q_ini = 10**7  # in years\n",
    "t_Q_ini = t_Q_ini * 3.156e7  # in s\n",
    "t_Q_min = 10**5  # in years\n",
    "t_Q_min = t_Q_min * 3.156e7  # in s \n",
    "t_Q_max = 10**9  # in years\n",
    "t_Q_max = t_Q_max * 3.156e7  # in s"
   ]
  },
  {
   "cell_type": "code",
   "execution_count": 9,
   "id": "0a2c4d4c",
   "metadata": {},
   "outputs": [],
   "source": [
    "# Calculating error in the diameter\n",
    "\n",
    "Ang_err = np.array([0.1] * len(Ang_deg))  # Error in determining the angular diameter in arcmins\n",
    "Diam_err = Ang_err * np.pi / (180 * 60) * D_A * 2  # Convert angular error to actual diameter error"
   ]
  },
  {
   "cell_type": "code",
   "execution_count": 10,
   "id": "d1f78d23",
   "metadata": {},
   "outputs": [],
   "source": [
    "# Defining the log-likelihood function\n",
    "\n",
    "def lnlike(theta, x, y, y_err):\n",
    "    return -0.5 * np.sum(((y - model(theta, x)) / y_err) ** 2)\n",
    "\n",
    "# Defining the log-prior function\n",
    "\n",
    "def lnprior(theta):\n",
    "    N_dot, t_Q = theta\n",
    "    if N_dot < N_dot_min or t_Q < t_Q_min: # or N_dot > N_dot_max  or t_Q > t_Q_max:\n",
    "        return -np.inf\n",
    "    return 0.0\n",
    "\n",
    "# Defining the log-posterior function\n",
    "\n",
    "def lnprob(theta, x, y, yerr):\n",
    "    lp = lnprior(theta)\n",
    "    if not np.isfinite(lp):\n",
    "        return -np.inf\n",
    "    return lp + lnlike(theta, x, y, yerr)\n"
   ]
  },
  {
   "cell_type": "code",
   "execution_count": 11,
   "id": "53af1bd4",
   "metadata": {},
   "outputs": [],
   "source": [
    "# Setting initial values for the parameters\n",
    "initial = [N_dot_ini, t_Q_ini]  \n",
    "\n",
    "# Setting up the MCMC sampler\n",
    "ndim = len(initial)\n",
    "nwalkers = 5 * ndim    # Preferentially 3-5 times the number of dimensions (minimum 2 times the number of dimensions)\n",
    "n_burn = 2000\n",
    "n_steps = 100000\n",
    "\n",
    "# Initializing the sampler\n",
    "sampler = emcee.EnsembleSampler(nwalkers, ndim, lnprob, args=(n_H, Diameter, Diam_err))\n",
    "\n",
    "# Adding little variation to the initial positions\n",
    "p0 = []\n",
    "for i in range(nwalkers):\n",
    "    pos = [N_dot_ini, t_Q_ini]  # Start with the initial values\n",
    "    pos[0] = pos[0] + 1e-4 * pos[0] * np.random.random(1)[0]  # Adding a small random variation to N_dot\n",
    "    pos[1] = pos[1] + 1e-4 * pos[1] * np.random.random(1)[0]  # Adding a small random variation to t_Q\n",
    "    p0.append(pos)   \n"
   ]
  },
  {
   "cell_type": "code",
   "execution_count": 12,
   "id": "e71aadb9",
   "metadata": {},
   "outputs": [
    {
     "name": "stdout",
     "output_type": "stream",
     "text": [
      "Running burn-in phase...\n"
     ]
    },
    {
     "name": "stderr",
     "output_type": "stream",
     "text": [
      "  2%|▏         | 30/2000 [00:00<00:06, 294.95it/s]"
     ]
    },
    {
     "name": "stderr",
     "output_type": "stream",
     "text": [
      "100%|██████████| 2000/2000 [00:06<00:00, 304.23it/s]\n"
     ]
    },
    {
     "name": "stdout",
     "output_type": "stream",
     "text": [
      "Running main sampling phase...\n"
     ]
    },
    {
     "name": "stderr",
     "output_type": "stream",
     "text": [
      "100%|██████████| 100000/100000 [05:33<00:00, 300.08it/s]\n"
     ]
    }
   ],
   "source": [
    "# Running the MCMC sampler\n",
    "\n",
    "# Burn-in phase\n",
    "print(\"Running burn-in phase...\")\n",
    "sampler.reset()\n",
    "state = sampler.run_mcmc(p0, n_burn, progress=True)\n",
    "sampler.reset()\n",
    "\n",
    "# Main sampling phase\n",
    "print(\"Running main sampling phase...\")\n",
    "pos, prob, state = sampler.run_mcmc(state, n_steps, progress=True)\n",
    "\n",
    "# Extracting the samples\n",
    "samples = sampler.get_chain(flat=True)      # Flatten the chain to get all samples in a single array\n"
   ]
  },
  {
   "cell_type": "code",
   "execution_count": 13,
   "id": "8d66889c",
   "metadata": {},
   "outputs": [
    {
     "name": "stdout",
     "output_type": "stream",
     "text": [
      "[3.42400371e+63 1.02900391e+20]\n"
     ]
    }
   ],
   "source": [
    "theta_max = samples[np.argmax(sampler.flatlnprobability)]\n",
    "print(theta_max)"
   ]
  },
  {
   "cell_type": "code",
   "execution_count": null,
   "id": "773b93f8",
   "metadata": {},
   "outputs": [
    {
     "data": {
      "text/plain": [
       "'\\nres = [2.05235821e+63 1.75222496e+20], [2.95231565e+63 1.21809305e+20]\\n[1.50480365e+64 2.38981167e+19]\\n[2.87363174e+64 1.25144664e+19]\\n[4.11184043e+64 8.74592398e+18]\\n[5.32163540e+63 6.75769181e+19]\\n'"
      ]
     },
     "execution_count": 14,
     "metadata": {},
     "output_type": "execute_result"
    }
   ],
   "source": [
    "'''\n",
    "res = [2.05235821e+63 1.75222496e+20], [2.95231565e+63 1.21809305e+20]\n",
    "[1.50480365e+64 2.38981167e+19]\n",
    "[2.87363174e+64 1.25144664e+19]\n",
    "[4.11184043e+64 8.74592398e+18]\n",
    "[5.32163540e+63 6.75769181e+19]\n",
    "[3.42400371e+63 1.02900391e+20]\n",
    "'''"
   ]
  }
 ],
 "metadata": {
  "kernelspec": {
   "display_name": ".venv",
   "language": "python",
   "name": "python3"
  },
  "language_info": {
   "codemirror_mode": {
    "name": "ipython",
    "version": 3
   },
   "file_extension": ".py",
   "mimetype": "text/x-python",
   "name": "python",
   "nbconvert_exporter": "python",
   "pygments_lexer": "ipython3",
   "version": "3.13.5"
  }
 },
 "nbformat": 4,
 "nbformat_minor": 5
}
