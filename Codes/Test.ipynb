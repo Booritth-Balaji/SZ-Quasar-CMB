{
 "cells": [
  {
   "cell_type": "markdown",
   "id": "ebf9742f",
   "metadata": {},
   "source": [
    "## Pre-MCMC calculations"
   ]
  },
  {
   "cell_type": "code",
   "execution_count": 1,
   "id": "2edb82a3",
   "metadata": {},
   "outputs": [],
   "source": [
    "import numpy as np\n",
    "import matplotlib.pyplot as plt\n",
    "import emcee\n",
    "import corner\n",
    "import astropy\n",
    "import scipy.integrate as integrate\n",
    "import pandas"
   ]
  },
  {
   "cell_type": "code",
   "execution_count": 2,
   "id": "d9265360",
   "metadata": {},
   "outputs": [],
   "source": [
    "# Importing constants \n",
    "\n",
    "Planck = astropy.cosmology.realizations.Planck18\n",
    "\n",
    "T_CMB = Planck.Tcmb0  # Temperature of the CMB\n",
    "H_0 = Planck.H0  # Current Hubble constant\n",
    "Omega_m = Planck.Om0  # Matter density parameter\n",
    "Omega_lambda = Planck.Ode0  # Dark energy density parameter\n",
    "c = astropy.constants.c.to('km/s')  # Speed of light in km/s\n",
    "sigma_T = astropy.constants.sigma_T.to('km2')  # Thomson scattering cross-section in km^2\n",
    "\n",
    "\n",
    "# Setting parameters\n",
    "\n",
    "z = 8  # Redshift of the quasar bubbles \n",
    "f_H = 0.21  # fraction of neutral hydrogen at z = 8"
   ]
  },
  {
   "cell_type": "code",
   "execution_count": 3,
   "id": "217efba2",
   "metadata": {},
   "outputs": [],
   "source": [
    "# Input Data\n",
    "\n",
    "data = pandas.read_csv('Data/u_0.0pc_noise.csv')\n",
    "\n",
    "Ang_deg = np.array(data['radius_y'])  # In arcmins\n",
    "amp = np.array(data['amp_y']) * 1e-6  # Amplitude in K"
   ]
  },
  {
   "cell_type": "code",
   "execution_count": 4,
   "id": "41abb96b",
   "metadata": {},
   "outputs": [],
   "source": [
    "# Defines the integrand that is to be integrated \n",
    "def integrand(z, Omega_m = Omega_m, Omega_lambda = Omega_lambda):\n",
    "    return 1 / np.sqrt(Omega_m * (1 + z)**3 + Omega_lambda)\n",
    "\n",
    "# Calculating other relevant distances\n",
    "\n",
    "D_H = c / H_0  # Hubble distance\n",
    "\n",
    "Integral = integrate.quad(integrand, 0, z)[0]  # Integrating from 0 to z\n",
    "D_C = D_H * Integral  # Comoving distance\n",
    "D_A = D_C / (1 + z)  # Angular diameter distance\n",
    "\n",
    "\n",
    "# Function that converts the Angular radius into the actual radius\n",
    "\n",
    "def AngToDist(Ang_deg, D_A = D_A):  # THE FUNCTION INPUTS ANGLES IN ARCMINS\n",
    "     \n",
    "    Ang_rad = Ang_deg * np.pi / (180 * 60)  # Convert arcmins to radians\n",
    "    Distance = D_A * Ang_rad  # Convert angular distance to actual distance\n",
    "\n",
    "    return Distance\n"
   ]
  },
  {
   "cell_type": "code",
   "execution_count": 5,
   "id": "da0c2841",
   "metadata": {},
   "outputs": [],
   "source": [
    "# Calculating the actual radii of the bubbles and y\n",
    "\n",
    "Radius = AngToDist(Ang_deg)  # in Mpc\n",
    "\n",
    "y = amp / T_CMB.value  "
   ]
  },
  {
   "cell_type": "code",
   "execution_count": 6,
   "id": "947132e1",
   "metadata": {},
   "outputs": [],
   "source": [
    "# Calculating n_e and n_H\n",
    "\n",
    "n_e = y * 3 * np.sqrt(1+z) / (sigma_T * 0.001 * 2 * Radius.to('km'))\n",
    "\n",
    "n_H = n_e / (1 - f_H)  # Assuming all electrons are from ionized hydrogen"
   ]
  },
  {
   "cell_type": "markdown",
   "id": "13cd7a70",
   "metadata": {},
   "source": [
    "----"
   ]
  },
  {
   "cell_type": "markdown",
   "id": "bb8c8ef3",
   "metadata": {},
   "source": [
    "## MCMC Sampling"
   ]
  },
  {
   "cell_type": "code",
   "execution_count": 7,
   "id": "4b6542c5",
   "metadata": {},
   "outputs": [],
   "source": [
    "# Defining the model using the Stromgren sphere approximation\n",
    "\n",
    "def model(theta, n_H): \n",
    "    N_dot, t_Q = theta\n",
    "    return (((3*N_dot*t_Q)/(4*np.pi*n_H))**(1/3)) * (1+z)**(-1)"
   ]
  },
  {
   "cell_type": "code",
   "execution_count": 8,
   "id": "c0711f89",
   "metadata": {},
   "outputs": [],
   "source": [
    "# Setting up initial, lower and upper bounds for the parameters\n",
    "\n",
    "N_dot_ini = 10**58  # in s^-1\n",
    "N_dot_min =  10**56  # in s^-1\n",
    "N_dot_max = 10**60  # in s^-1\n",
    "\n",
    "t_Q_ini = 10**7  # in years\n",
    "t_Q_ini = t_Q_ini * 3.156e7  # in s\n",
    "t_Q_min = 10**5  # in years\n",
    "t_Q_min = t_Q_min * 3.156e7  # in s \n",
    "t_Q_max = 10**9  # in years\n",
    "t_Q_max = t_Q_max * 3.156e7  # in s"
   ]
  },
  {
   "cell_type": "code",
   "execution_count": 9,
   "id": "0a2c4d4c",
   "metadata": {},
   "outputs": [],
   "source": [
    "# Calculating error in the diameter\n",
    "\n",
    "Ang_err = np.array([0.1] * len(Ang_deg))  # Error in determining the angular diameter in arcmins\n",
    "Radius_err = Ang_err * np.pi / (180 * 60) * D_A  # Convert angular error to actual diameter error"
   ]
  },
  {
   "cell_type": "code",
   "execution_count": 10,
   "id": "d1f78d23",
   "metadata": {},
   "outputs": [],
   "source": [
    "# Defining the log-likelihood function\n",
    "\n",
    "def lnlike(theta, x, y, y_err):\n",
    "    return -0.5 * np.sum(((y - model(theta, x)) / y_err) ** 2)\n",
    "\n",
    "# Defining the log-prior function\n",
    "\n",
    "def lnprior(theta):\n",
    "    N_dot, t_Q = theta\n",
    "    if N_dot < N_dot_min or t_Q < t_Q_min: # or N_dot > N_dot_max  or t_Q > t_Q_max:\n",
    "        return -np.inf\n",
    "    return 0.0\n",
    "\n",
    "# Defining the log-posterior function\n",
    "\n",
    "def lnprob(theta, x, y, yerr):\n",
    "    lp = lnprior(theta)\n",
    "    if not np.isfinite(lp):\n",
    "        return -np.inf\n",
    "    return lp + lnlike(theta, x, y, yerr)\n"
   ]
  },
  {
   "cell_type": "code",
   "execution_count": null,
   "id": "53af1bd4",
   "metadata": {},
   "outputs": [],
   "source": [
    "# Setting initial values for the parameters\n",
    "initial = [N_dot_ini, t_Q_ini]  \n",
    "\n",
    "# Setting up the MCMC sampler\n",
    "ndim = len(initial)\n",
    "nwalkers = 5 * ndim    # Preferentially 3-5 times the number of dimensions (minimum 2 times the number of dimensions)\n",
    "n_burn = 200\n",
    "n_steps = 10000\n",
    "\n",
    "# Initializing the sampler\n",
    "sampler = emcee.EnsembleSampler(nwalkers, ndim, lnprob, args=(n_H, Radius, Radius_err))\n",
    "\n",
    "# Adding little variation to the initial positions\n",
    "p0 = []\n",
    "for i in range(nwalkers):\n",
    "    pos = [N_dot_ini, t_Q_ini]  # Start with the initial values\n",
    "    pos[0] = pos[0] + 1e-4 * pos[0] * np.random.random(1)[0]  # Adding a small random variation to N_dot\n",
    "    pos[1] = pos[1] + 1e-4 * pos[1] * np.random.random(1)[0]  # Adding a small random variation to t_Q\n",
    "    p0.append(pos)   \n"
   ]
  },
  {
   "cell_type": "code",
   "execution_count": 12,
   "id": "e71aadb9",
   "metadata": {},
   "outputs": [
    {
     "name": "stdout",
     "output_type": "stream",
     "text": [
      "Running burn-in phase...\n"
     ]
    },
    {
     "name": "stderr",
     "output_type": "stream",
     "text": [
      "100%|██████████| 20/20 [00:00<00:00, 373.91it/s]\n"
     ]
    },
    {
     "name": "stdout",
     "output_type": "stream",
     "text": [
      "Running main sampling phase...\n"
     ]
    },
    {
     "name": "stderr",
     "output_type": "stream",
     "text": [
      "100%|██████████| 1000/1000 [00:02<00:00, 436.18it/s]\n"
     ]
    }
   ],
   "source": [
    "# Running the MCMC sampler\n",
    "\n",
    "# Burn-in phase\n",
    "print(\"Running burn-in phase...\")\n",
    "sampler.reset()\n",
    "state = sampler.run_mcmc(p0, n_burn, progress=True)\n",
    "sampler.reset()\n",
    "\n",
    "# Main sampling phase\n",
    "print(\"Running main sampling phase...\")\n",
    "pos, prob, state = sampler.run_mcmc(state, n_steps, progress=True)\n",
    "\n",
    "# Extracting the samples\n",
    "samples = sampler.get_chain(flat=True)      # Flatten the chain to get all samples in a single array\n"
   ]
  },
  {
   "cell_type": "code",
   "execution_count": 13,
   "id": "8d66889c",
   "metadata": {},
   "outputs": [
    {
     "name": "stdout",
     "output_type": "stream",
     "text": [
      "N_dot: 6.707642251874908e+60 ; t_Q (in years): 424694950.82356524\n"
     ]
    }
   ],
   "source": [
    "theta_max = samples[np.argmax(sampler.flatlnprobability)]\n",
    "print(\"N_dot:\", theta_max[0], \"; t_Q (in years):\", theta_max[1]/3.156e7 )"
   ]
  },
  {
   "cell_type": "code",
   "execution_count": 14,
   "id": "a81b263a",
   "metadata": {},
   "outputs": [
    {
     "data": {
      "text/latex": [
       "$[11.529894,~11.323519,~11.60294,~11.86953,~11.885218,~12.025943,~12.881589,~11.852531] \\; \\mathrm{Mpc}$"
      ],
      "text/plain": [
       "<Quantity [11.52989377, 11.32351927, 11.60293984, 11.86952971, 11.8852179 ,\n",
       "           12.02594347, 12.88158861, 11.852531  ] Mpc>"
      ]
     },
     "execution_count": 14,
     "metadata": {},
     "output_type": "execute_result"
    }
   ],
   "source": [
    "# The Radii calculated from the model using the maximum likelihood parameters\n",
    "model(theta_max, n_H).to('Mpc')"
   ]
  },
  {
   "cell_type": "code",
   "execution_count": 15,
   "id": "48aa4db8",
   "metadata": {},
   "outputs": [
    {
     "data": {
      "text/latex": [
       "$[10.648701,~11.240296,~11.536093,~11.536093,~11.83189,~12.423485,~12.719282,~13.015079] \\; \\mathrm{Mpc}$"
      ],
      "text/plain": [
       "<Quantity [10.64870116, 11.24029567, 11.53609292, 11.53609292, 11.83189018,\n",
       "           12.42348469, 12.71928194, 13.0150792 ] Mpc>"
      ]
     },
     "execution_count": 15,
     "metadata": {},
     "output_type": "execute_result"
    }
   ],
   "source": [
    "# The radius_y values\n",
    "Radius"
   ]
  },
  {
   "cell_type": "code",
   "execution_count": 16,
   "id": "c23ae4f9",
   "metadata": {},
   "outputs": [
    {
     "data": {
      "text/plain": [
       "array([0.168, 0.169, 0.082, 0.108, 0.125, 0.103, 0.133, 0.18 , 0.144,\n",
       "       0.164])"
      ]
     },
     "execution_count": 16,
     "metadata": {},
     "output_type": "execute_result"
    }
   ],
   "source": [
    "sampler.acceptance_fraction"
   ]
  },
  {
   "cell_type": "markdown",
   "id": "e23634b4",
   "metadata": {},
   "source": [
    "---\n",
    "\n",
    "## Comparison with the input data set\n"
   ]
  },
  {
   "cell_type": "markdown",
   "id": "2f775411",
   "metadata": {},
   "source": [
    "Here I am performing the same MCMC sampling but with the input data, to compare the output with that of the previous scenario"
   ]
  },
  {
   "cell_type": "code",
   "execution_count": 17,
   "id": "77ccad60",
   "metadata": {},
   "outputs": [],
   "source": [
    "# Importing the input data\n",
    "ang_inp = np.array(data.radius_x)  # Input angular radius\n",
    "                                            \n",
    "amp_inp = np.array(data.amp_x) * -1 * 1e-6  # The input amplitude is negative, so we multiply it with -1 (in Kelvin)"
   ]
  },
  {
   "cell_type": "code",
   "execution_count": 18,
   "id": "521b8667",
   "metadata": {},
   "outputs": [],
   "source": [
    "# Calculating the actual distance and y\n",
    "\n",
    "Radius_inp = AngToDist(ang_inp)  # in Mpc\n",
    "\n",
    "y_inp = amp_inp / T_CMB.value"
   ]
  },
  {
   "cell_type": "code",
   "execution_count": 19,
   "id": "5ce6c5fa",
   "metadata": {},
   "outputs": [],
   "source": [
    "# Calculating n_e and n_H\n",
    "\n",
    "n_e_inp = y * 3 * np.sqrt(1+z) / (sigma_T * 0.001 * 2 * Radius_inp.to('km'))\n",
    "\n",
    "n_H_inp = n_e_inp / (1 - f_H) "
   ]
  },
  {
   "cell_type": "code",
   "execution_count": 20,
   "id": "0ce3472d",
   "metadata": {},
   "outputs": [
    {
     "name": "stdout",
     "output_type": "stream",
     "text": [
      "Running burn-in phase...\n"
     ]
    },
    {
     "name": "stderr",
     "output_type": "stream",
     "text": [
      "  0%|          | 0/20 [00:00<?, ?it/s]"
     ]
    },
    {
     "name": "stderr",
     "output_type": "stream",
     "text": [
      "100%|██████████| 20/20 [00:00<00:00, 320.92it/s]\n"
     ]
    },
    {
     "name": "stdout",
     "output_type": "stream",
     "text": [
      "Running main sampling phase...\n"
     ]
    },
    {
     "name": "stderr",
     "output_type": "stream",
     "text": [
      "100%|██████████| 1000/1000 [00:02<00:00, 391.35it/s]\n"
     ]
    }
   ],
   "source": [
    "# Initializing the sampler for the input data\n",
    "\n",
    "sampler_inp = emcee.EnsembleSampler(nwalkers, ndim, lnprob, args=(n_H_inp, Radius_inp, Radius_err))\n",
    "\n",
    "\n",
    "# Running the MCMC Sampler\n",
    "\n",
    "# Burn-in phase\n",
    "print(\"Running burn-in phase...\")\n",
    "sampler_inp.reset()\n",
    "state = sampler_inp.run_mcmc(p0, n_burn, progress=True)\n",
    "sampler_inp.reset()\n",
    "\n",
    "# Main sampling phase\n",
    "print(\"Running main sampling phase...\")\n",
    "pos, prob, state = sampler_inp.run_mcmc(state, n_steps, progress=True)\n",
    "\n",
    "# Extracting the samples\n",
    "samples = sampler_inp.get_chain(flat=True) \n"
   ]
  },
  {
   "cell_type": "code",
   "execution_count": 21,
   "id": "79cfb610",
   "metadata": {},
   "outputs": [
    {
     "name": "stdout",
     "output_type": "stream",
     "text": [
      "INPUT:  N_dot: 4.866780555964437e+60 ; t_Q (in years): 585336231.1163474\n",
      "OUTPUT: N_dot: 6.707642251874908e+60 ; t_Q (in years): 424694950.82356524\n"
     ]
    }
   ],
   "source": [
    "# Comparing the N_dot and t_Q values from the input data with the output data\n",
    "theta_max_inp = samples[np.argmax(sampler_inp.flatlnprobability)]\n",
    "print(\"INPUT:  N_dot:\", theta_max_inp[0], \"; t_Q (in years):\", theta_max_inp[1]/3.156e7 )\n",
    "print(\"OUTPUT: N_dot:\", theta_max[0], \"; t_Q (in years):\", theta_max[1]/3.156e7 )"
   ]
  },
  {
   "cell_type": "code",
   "execution_count": 22,
   "id": "22c6d9f1",
   "metadata": {},
   "outputs": [
    {
     "name": "stdout",
     "output_type": "stream",
     "text": [
      "INPUT: Radius: [11.52989538 11.32352085 11.60294146 11.86953136 11.88521955 12.02594515\n",
      " 12.88159041 11.85253265] Mpc\n",
      "OUTPUT: Radius: [11.52989377 11.32351927 11.60293984 11.86952971 11.8852179  12.02594347\n",
      " 12.88158861 11.852531  ] Mpc\n"
     ]
    }
   ],
   "source": [
    "# Comparing the Radii calculated from the input and output data\n",
    "print(\"INPUT: Radius:\", model(theta_max_inp, n_H_inp).to('Mpc'))\n",
    "print(\"OUTPUT: Radius:\", model(theta_max, n_H).to('Mpc'))"
   ]
  },
  {
   "cell_type": "code",
   "execution_count": 23,
   "id": "94672dcb",
   "metadata": {},
   "outputs": [
    {
     "name": "stdout",
     "output_type": "stream",
     "text": [
      "Actual Radius: [10.64870116 11.24029567 11.53609292 11.53609292 11.83189018 12.42348469\n",
      " 12.71928194 13.0150792 ] Mpc\n"
     ]
    }
   ],
   "source": [
    "# Actual Radius values\n",
    "print(\"Actual Radius:\", Radius_inp)\n"
   ]
  }
 ],
 "metadata": {
  "kernelspec": {
   "display_name": ".venv",
   "language": "python",
   "name": "python3"
  },
  "language_info": {
   "codemirror_mode": {
    "name": "ipython",
    "version": 3
   },
   "file_extension": ".py",
   "mimetype": "text/x-python",
   "name": "python",
   "nbconvert_exporter": "python",
   "pygments_lexer": "ipython3",
   "version": "3.13.5"
  }
 },
 "nbformat": 4,
 "nbformat_minor": 5
}
