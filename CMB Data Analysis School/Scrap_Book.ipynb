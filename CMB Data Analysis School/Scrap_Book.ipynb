{
 "cells": [
  {
   "cell_type": "code",
   "execution_count": 1,
   "id": "5c8d5020",
   "metadata": {},
   "outputs": [],
   "source": [
    "import numpy as np\n",
    "import matplotlib\n",
    "import sys\n",
    "import matplotlib.cm as cm\n",
    "import matplotlib.mlab as mlab\n",
    "import matplotlib.pyplot as plt\n",
    "import astropy.io.fits as fits\n",
    "import camb\n",
    "from camb import model, initialpower"
   ]
  },
  {
   "cell_type": "code",
   "execution_count": 2,
   "id": "e4fbc094",
   "metadata": {},
   "outputs": [],
   "source": [
    "#Set up a new set of parameters for CAMB\n",
    "#The defaults give one massive neutrino and helium set using BBN consistency\n",
    "pars = camb.set_params(H0=67.5, ombh2=0.022, omch2=0.122, mnu=0.06, omk=0, tau=0.06,  \n",
    "                       As=2e-9, ns=0.965, halofit_version='mead', lmax=5000)\n",
    "pars.set_for_lmax(5000, lens_potential_accuracy=2)\n",
    "pars.WantTensors = True"
   ]
  },
  {
   "cell_type": "code",
   "execution_count": 3,
   "id": "958bc293",
   "metadata": {},
   "outputs": [
    {
     "name": "stderr",
     "output_type": "stream",
     "text": [
      "WARNING:root:power_spectra_from_transfer with non-linear lensing does not recalculate the non-linear correction\n"
     ]
    }
   ],
   "source": [
    "#calculate results for these parameters\n",
    "results = camb.get_results(pars)\n",
    "\n",
    "## now add tensors keeping at r = 0.008  ## note we can recompute the tenser contribution with out rerunning the scalar part.\n",
    "inflation_params = initialpower.InitialPowerLaw()\n",
    "inflation_params.set_params(ns=0.96, r=0.008)\n",
    "\n",
    "results.power_spectra_from_transfer(inflation_params) #warning OK here, not changing scalars\n",
    "lmax=5000\n",
    "\n",
    "## get the Cl's\n",
    "cl = results.get_total_cls(lmax, CMB_unit='muK')\n",
    "# ignore the warning-- this is OK"
   ]
  },
  {
   "cell_type": "code",
   "execution_count": 4,
   "id": "fbc00edf",
   "metadata": {},
   "outputs": [],
   "source": [
    "## now save these paramters as a text file for future use\n",
    "ell_and_cell = np.append(np.arange(np.size(cl[:,0])), cl.transpose().ravel())\n",
    "ell_and_cell = ell_and_cell.reshape((5,5001))\n",
    "np.savetxt(\"CAMB_fiducial_cosmo_scalCls.dat\",ell_and_cell.transpose())"
   ]
  },
  {
   "cell_type": "code",
   "execution_count": 5,
   "id": "ad331328",
   "metadata": {},
   "outputs": [
    {
     "data": {
      "text/plain": [
       "Text(0.5, 0, '$\\\\ell$')"
      ]
     },
     "execution_count": 5,
     "metadata": {},
     "output_type": "execute_result"
    },
    {
     "data": {
      "image/png": "[encoded data removed]",
      "text/plain": [
       "<Figure size 640x480 with 1 Axes>"
      ]
     },
     "metadata": {},
     "output_type": "display_data"
    }
   ],
   "source": [
    "# read in the input CMB spectra\n",
    "ell, DlTT = np.loadtxt(\"CAMB_fiducial_cosmo_scalCls.dat\", usecols=(0, 1), unpack=True)\n",
    "plt.plot(ell,DlTT)\n",
    "plt.ylabel(r'$D_{\\ell}$ [$\\mu$K$^2$]')\n",
    "plt.xlabel(r'$\\ell$')"
   ]
  }
 ],
 "metadata": {
  "kernelspec": {
   "display_name": "Python 3",
   "language": "python",
   "name": "python3"
  },
  "language_info": {
   "codemirror_mode": {
    "name": "ipython",
    "version": 3
   },
   "file_extension": ".py",
   "mimetype": "text/x-python",
   "name": "python",
   "nbconvert_exporter": "python",
   "pygments_lexer": "ipython3",
   "version": "3.13.3"
  }
 },
 "nbformat": 4,
 "nbformat_minor": 5
}
